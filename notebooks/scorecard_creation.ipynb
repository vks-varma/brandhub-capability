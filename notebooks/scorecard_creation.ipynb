{
 "cells": [
  {
   "cell_type": "markdown",
   "metadata": {},
   "source": [
    "### Pillar Creation  \n",
    "\n",
    "After determining the final weightages, we compute **pillar values** using the harmonized dataset.  \n",
    "These weighted pillar values serve as key components for downstream modeling and analysis.  \n",
    "\n",
    "### Importance Modeling  \n",
    "\n",
    "Once the pillars are constructed, we perform an **importance analysis** based on historical trends:  \n",
    "\n",
    "- **Trend Analysis**: Examining past pillar data to identify patterns over time.  \n",
    "- **Hierarchical Importance Modeling**: Building a structured importance model for different levels in the hierarchy to understand the contribution of each pillar.  \n",
    "\n",
    "This step ensures a data-driven approach to prioritizing key metrics within the framework. 📊  \n"
   ]
  },
  {
   "cell_type": "code",
   "execution_count": 1,
   "metadata": {},
   "outputs": [
    {
     "name": "stdout",
     "output_type": "stream",
     "text": [
      "{'filtered_data_path': './output\\\\filtered_data.csv', 'no_null_imputed_data_path': './output\\\\no_null_imputed_data.csv', 'scaled_data_path': './output\\\\scaled_data.csv', 'cfa_fit_data_path': './output\\\\cfa_fit_data.csv', 'rf_fit_data_path': 'output\\\\rf_fit_data.csv', 'rf_act_pred_data_path': 'output\\\\rf_act_pred_data.csv', 'pillar_weights_path': 'output\\\\pillar_weights.csv', 'pillar_data_path': 'output\\\\pillar_data.csv', 'trend_past_data_path': 'output\\\\trend_data.csv', 'scaled_score_data_path': 'output\\\\scaled_score_data.csv', 'imp_rf_fit_data_path': 'output\\\\imp_rf_fit_data.csv', 'imp_rf_act_pred_data_path': 'output\\\\imp_rf_act_pred_data.csv', 'score_card_final_df_path': 'output\\\\score_card_final_df.csv', 'relative_imp_model_results_path': 'output\\\\relative_imp_model_results.csv'}\n",
      "All required columns are present in the DataFrame.\n",
      "All independent variables in idv_list are present in the data.\n",
      "Minimum date: 2017-01-07 00:00:00\n",
      "Maximum date: 2025-01-11 00:00:00\n",
      "Dropped_columns: [('vendor_1', 'brand_1', 'category_1', 'directions_brand_attributes_always_seems_to_be_doing_something_new_mean'), ('vendor_1', 'brand_1', 'category_1', 'directions_brand_attributes_creates_excitement_and_eagerness_at_mealtime_mean'), ('vendor_1', 'brand_1', 'category_1', 'directions_brand_attributes_creates_playful_moments_with_my_cat_mean'), ('vendor_1', 'brand_1', 'category_1', 'directions_brand_attributes_has_a_taste_my_cat_enjoys_mean'), ('vendor_1', 'brand_1', 'category_1', 'directions_brand_attributes_has_a_taste_my_dog_enjoys_mean'), ('vendor_1', 'brand_1', 'category_1', 'directions_brand_attributes_has_craveable_treats_that_my_cat_comes_running_for_mean'), ('vendor_1', 'brand_1', 'category_1', 'directions_brand_attributes_has_the_most_satisfying_and_hearty_dog_treats_mean'), ('vendor_1', 'brand_1', 'category_1', 'directions_brand_attributes_has_treats_that_contain_wholesome_ingredients_mean'), ('vendor_1', 'brand_1', 'category_1', 'directions_brand_attributes_has_treats_that_have_an_appealing_package_mean'), ('vendor_1', 'brand_1', 'category_1', 'directions_brand_attributes_is_a_brand_i_do_not_trust_to_feed_to_my_pet_mean_inverse'), ('vendor_1', 'brand_1', 'category_1', 'directions_brand_attributes_is_a_brand_i_would_pay_more_for_mean'), ('vendor_1', 'brand_1', 'category_1', 'directions_brand_attributes_is_available_in_different_forms_for_different_occasions_mean'), ('vendor_1', 'brand_1', 'category_1', 'directions_brand_attributes_is_often_available_on_promotion_or_deal_mean'), ('vendor_1', 'brand_1', 'category_1', 'directions_brand_attributes_provides_all_the_variety_my_cat_wants_mean'), ('vendor_1', 'brand_1', 'category_1', 'directions_brand_attributes_understands_the_relationship_between_me_and_my_cat_mean'), ('vendor_1', 'brand_1', 'category_1', 'directions_brand_attributes_understands_the_relationship_between_me_and_my_dog_mean'), ('vendor_1', 'brand_1', 'category_1', 'ratings_reviews_review_sentiment_score_health_benefits'), ('vendor_1', 'brand_1', 'category_1', 'ratings_reviews_review_sentiment_score_ingredients'), ('vendor_1', 'brand_1', 'category_1', 'search_searchvolume_share'), ('vendor_1', 'brand_2', 'category_1', 'directions_brand_attributes_creates_playful_moments_with_my_cat_mean'), ('vendor_1', 'brand_2', 'category_1', 'directions_brand_attributes_has_a_taste_my_cat_enjoys_mean'), ('vendor_1', 'brand_2', 'category_1', 'directions_brand_attributes_has_craveable_treats_that_my_cat_comes_running_for_mean'), ('vendor_1', 'brand_2', 'category_1', 'directions_brand_attributes_has_the_most_satisfying_and_hearty_dog_treats_mean'), ('vendor_1', 'brand_2', 'category_1', 'directions_brand_attributes_has_treats_that_contain_wholesome_ingredients_mean'), ('vendor_1', 'brand_2', 'category_1', 'directions_brand_attributes_has_treats_that_have_an_appealing_package_mean'), ('vendor_1', 'brand_2', 'category_1', 'directions_brand_attributes_is_available_in_different_forms_for_different_occasions_mean'), ('vendor_1', 'brand_2', 'category_1', 'directions_brand_attributes_provides_all_the_variety_my_cat_wants_mean'), ('vendor_1', 'brand_2', 'category_1', 'directions_brand_attributes_understands_the_relationship_between_me_and_my_cat_mean'), ('vendor_1', 'brand_2', 'category_1', 'search_searchvolume_share'), ('vendor_1', 'brand_2', 'category_2', 'directions_brand_attributes_creates_excitement_and_eagerness_at_mealtime_mean'), ('vendor_1', 'brand_2', 'category_2', 'directions_brand_attributes_has_a_taste_my_dog_enjoys_mean'), ('vendor_1', 'brand_2', 'category_2', 'directions_brand_attributes_has_the_most_satisfying_and_hearty_dog_treats_mean'), ('vendor_1', 'brand_2', 'category_2', 'directions_brand_attributes_has_treats_i_could_feed_my_dog_everyday_mean'), ('vendor_1', 'brand_2', 'category_2', 'directions_brand_attributes_has_treats_that_have_an_appealing_package_mean'), ('vendor_1', 'brand_2', 'category_2', 'directions_brand_attributes_helps_me_connect_with_my_dog_mean'), ('vendor_1', 'brand_2', 'category_2', 'directions_brand_attributes_offers_a_flavors_that_appeals_to_my_dogs_taste_mean'), ('vendor_1', 'brand_2', 'category_2', 'directions_brand_attributes_understands_the_relationship_between_me_and_my_dog_mean'), ('vendor_1', 'brand_2', 'category_2', 'search_searchvolume_share'), ('vendor_2', 'brand_3', 'category_1', 'directions_brand_attributes_always_seems_to_be_doing_something_new_mean'), ('vendor_2', 'brand_3', 'category_1', 'directions_brand_attributes_creates_excitement_and_eagerness_at_mealtime_mean'), ('vendor_2', 'brand_3', 'category_1', 'directions_brand_attributes_creates_playful_moments_with_my_cat_mean'), ('vendor_2', 'brand_3', 'category_1', 'directions_brand_attributes_has_a_taste_my_cat_enjoys_mean'), ('vendor_2', 'brand_3', 'category_1', 'directions_brand_attributes_has_a_taste_my_dog_enjoys_mean'), ('vendor_2', 'brand_3', 'category_1', 'directions_brand_attributes_has_craveable_treats_that_my_cat_comes_running_for_mean'), ('vendor_2', 'brand_3', 'category_1', 'directions_brand_attributes_has_the_most_satisfying_and_hearty_dog_treats_mean'), ('vendor_2', 'brand_3', 'category_1', 'directions_brand_attributes_has_treats_that_contain_wholesome_ingredients_mean'), ('vendor_2', 'brand_3', 'category_1', 'directions_brand_attributes_has_treats_that_have_an_appealing_package_mean'), ('vendor_2', 'brand_3', 'category_1', 'directions_brand_attributes_is_a_brand_i_do_not_trust_to_feed_to_my_pet_mean_inverse'), ('vendor_2', 'brand_3', 'category_1', 'directions_brand_attributes_is_a_brand_i_would_pay_more_for_mean'), ('vendor_2', 'brand_3', 'category_1', 'directions_brand_attributes_is_available_in_different_forms_for_different_occasions_mean'), ('vendor_2', 'brand_3', 'category_1', 'directions_brand_attributes_is_often_available_on_promotion_or_deal_mean'), ('vendor_2', 'brand_3', 'category_1', 'directions_brand_attributes_provides_all_the_variety_my_cat_wants_mean'), ('vendor_2', 'brand_3', 'category_1', 'directions_brand_attributes_understands_the_relationship_between_me_and_my_cat_mean'), ('vendor_2', 'brand_3', 'category_1', 'directions_brand_attributes_understands_the_relationship_between_me_and_my_dog_mean'), ('vendor_2', 'brand_3', 'category_1', 'ratings_reviews_review_sentiment_score_ingredients'), ('vendor_2', 'brand_3', 'category_1', 'search_searchvolume_share'), ('vendor_2', 'brand_3', 'category_2', 'directions_brand_attributes_always_seems_to_be_doing_something_new_mean'), ('vendor_2', 'brand_3', 'category_2', 'directions_brand_attributes_creates_excitement_and_eagerness_at_mealtime_mean'), ('vendor_2', 'brand_3', 'category_2', 'directions_brand_attributes_has_a_taste_my_cat_enjoys_mean'), ('vendor_2', 'brand_3', 'category_2', 'directions_brand_attributes_has_a_taste_my_dog_enjoys_mean'), ('vendor_2', 'brand_3', 'category_2', 'directions_brand_attributes_has_the_most_satisfying_and_hearty_dog_treats_mean'), ('vendor_2', 'brand_3', 'category_2', 'directions_brand_attributes_has_treats_i_could_feed_my_dog_everyday_mean'), ('vendor_2', 'brand_3', 'category_2', 'directions_brand_attributes_has_treats_that_have_an_appealing_package_mean'), ('vendor_2', 'brand_3', 'category_2', 'directions_brand_attributes_helps_me_connect_with_my_dog_mean'), ('vendor_2', 'brand_3', 'category_2', 'directions_brand_attributes_is_a_brand_i_would_pay_more_for_mean'), ('vendor_2', 'brand_3', 'category_2', 'directions_brand_attributes_offers_a_flavors_that_appeals_to_my_dogs_taste_mean'), ('vendor_2', 'brand_3', 'category_2', 'directions_brand_attributes_provides_all_the_variety_my_cat_wants_mean'), ('vendor_2', 'brand_3', 'category_2', 'directions_brand_attributes_understands_the_relationship_between_me_and_my_cat_mean'), ('vendor_2', 'brand_3', 'category_2', 'directions_brand_attributes_understands_the_relationship_between_me_and_my_dog_mean'), ('vendor_2', 'brand_3', 'category_2', 'ratings_reviews_positive_ratings_percentage'), ('vendor_2', 'brand_3', 'category_2', 'ratings_reviews_review_sentiment_score_ingredients'), ('vendor_2', 'brand_3', 'category_2', 'ratings_reviews_review_sentiment_score_value_for_the_money'), ('vendor_2', 'brand_3', 'category_2', 'search_searchvolume_share'), ('vendor_2', 'brand_4', 'category_2', 'directions_brand_attributes_creates_excitement_and_eagerness_at_mealtime_mean'), ('vendor_2', 'brand_4', 'category_2', 'directions_brand_attributes_has_a_taste_my_dog_enjoys_mean'), ('vendor_2', 'brand_4', 'category_2', 'directions_brand_attributes_has_the_most_satisfying_and_hearty_dog_treats_mean'), ('vendor_2', 'brand_4', 'category_2', 'directions_brand_attributes_has_treats_i_could_feed_my_dog_everyday_mean'), ('vendor_2', 'brand_4', 'category_2', 'directions_brand_attributes_has_treats_that_have_an_appealing_package_mean'), ('vendor_2', 'brand_4', 'category_2', 'directions_brand_attributes_helps_me_connect_with_my_dog_mean'), ('vendor_2', 'brand_4', 'category_2', 'directions_brand_attributes_offers_a_flavors_that_appeals_to_my_dogs_taste_mean'), ('vendor_2', 'brand_4', 'category_2', 'directions_brand_attributes_understands_the_relationship_between_me_and_my_dog_mean'), ('vendor_3', 'brand_5', 'category_1', 'directions_brand_attributes_creates_playful_moments_with_my_cat_mean'), ('vendor_3', 'brand_5', 'category_1', 'directions_brand_attributes_has_a_taste_my_cat_enjoys_mean'), ('vendor_3', 'brand_5', 'category_1', 'directions_brand_attributes_has_craveable_treats_that_my_cat_comes_running_for_mean'), ('vendor_3', 'brand_5', 'category_1', 'directions_brand_attributes_has_the_most_satisfying_and_hearty_dog_treats_mean'), ('vendor_3', 'brand_5', 'category_1', 'directions_brand_attributes_has_treats_i_could_feed_my_dog_everyday_mean'), ('vendor_3', 'brand_5', 'category_1', 'directions_brand_attributes_has_treats_that_contain_wholesome_ingredients_mean'), ('vendor_3', 'brand_5', 'category_1', 'directions_brand_attributes_has_treats_that_have_an_appealing_package_mean'), ('vendor_3', 'brand_5', 'category_1', 'directions_brand_attributes_helps_me_connect_with_my_dog_mean'), ('vendor_3', 'brand_5', 'category_1', 'directions_brand_attributes_is_available_in_different_forms_for_different_occasions_mean'), ('vendor_3', 'brand_5', 'category_1', 'directions_brand_attributes_offers_a_flavors_that_appeals_to_my_dogs_taste_mean'), ('vendor_3', 'brand_5', 'category_1', 'directions_brand_attributes_provides_all_the_variety_my_cat_wants_mean'), ('vendor_3', 'brand_5', 'category_1', 'directions_brand_attributes_understands_the_relationship_between_me_and_my_cat_mean'), ('vendor_3', 'brand_6', 'category_2', 'directions_brand_attributes_always_seems_to_be_doing_something_new_mean'), ('vendor_3', 'brand_6', 'category_2', 'directions_brand_attributes_creates_excitement_and_eagerness_at_mealtime_mean'), ('vendor_3', 'brand_6', 'category_2', 'directions_brand_attributes_has_a_taste_my_cat_enjoys_mean'), ('vendor_3', 'brand_6', 'category_2', 'directions_brand_attributes_has_a_taste_my_dog_enjoys_mean'), ('vendor_3', 'brand_6', 'category_2', 'directions_brand_attributes_has_the_most_satisfying_and_hearty_dog_treats_mean'), ('vendor_3', 'brand_6', 'category_2', 'directions_brand_attributes_has_treats_i_could_feed_my_dog_everyday_mean'), ('vendor_3', 'brand_6', 'category_2', 'directions_brand_attributes_has_treats_that_have_an_appealing_package_mean'), ('vendor_3', 'brand_6', 'category_2', 'directions_brand_attributes_helps_me_connect_with_my_dog_mean'), ('vendor_3', 'brand_6', 'category_2', 'directions_brand_attributes_is_a_brand_i_would_pay_more_for_mean'), ('vendor_3', 'brand_6', 'category_2', 'directions_brand_attributes_offers_a_flavors_that_appeals_to_my_dogs_taste_mean'), ('vendor_3', 'brand_6', 'category_2', 'directions_brand_attributes_provides_all_the_variety_my_cat_wants_mean'), ('vendor_3', 'brand_6', 'category_2', 'directions_brand_attributes_understands_the_relationship_between_me_and_my_cat_mean'), ('vendor_3', 'brand_6', 'category_2', 'directions_brand_attributes_understands_the_relationship_between_me_and_my_dog_mean'), ('vendor_3', 'brand_6', 'category_2', 'search_searchvolume_share')]\n"
     ]
    },
    {
     "data": {
      "text/plain": [
       "{'filtered_data_path': './output\\\\filtered_data.csv',\n",
       " 'no_null_imputed_data_path': './output\\\\no_null_imputed_data.csv',\n",
       " 'scaled_data_path': './output\\\\scaled_data.csv',\n",
       " 'cfa_fit_data_path': './output\\\\cfa_fit_data.csv',\n",
       " 'rf_fit_data_path': 'output\\\\rf_fit_data.csv',\n",
       " 'rf_act_pred_data_path': 'output\\\\rf_act_pred_data.csv',\n",
       " 'pillar_weights_path': 'output\\\\pillar_weights.csv',\n",
       " 'pillar_data_path': 'output\\\\pillar_data.csv',\n",
       " 'trend_past_data_path': 'output\\\\trend_data.csv',\n",
       " 'scaled_score_data_path': 'output\\\\scaled_score_data.csv',\n",
       " 'imp_rf_fit_data_path': 'output\\\\imp_rf_fit_data.csv',\n",
       " 'imp_rf_act_pred_data_path': 'output\\\\imp_rf_act_pred_data.csv',\n",
       " 'score_card_final_df_path': 'output\\\\score_card_final_df.csv',\n",
       " 'relative_imp_model_results_path': 'output\\\\relative_imp_model_results.csv'}"
      ]
     },
     "execution_count": 1,
     "metadata": {},
     "output_type": "execute_result"
    }
   ],
   "source": [
    "import sys\n",
    "import os\n",
    "\n",
    "project_path = os.path.abspath(\"..\")\n",
    "\n",
    "if project_path not in sys.path:\n",
    "    sys.path.append(project_path)\n",
    "\n",
    "\n",
    "import numpy as np\n",
    "import pandas as pd\n",
    "\n",
    "from src.brand_health_centre.data_preparation import data_prepare\n",
    "\n",
    "#Change the config settings according to the documentation\n",
    "config_path = r\"D:\\BRAND_HUB_PROJECT\\brandhub-capability\\src\\brand_health_centre\\config.yml\"\n",
    "scaled_data, idv_list, config, paths = data_prepare(config_file_path=config_path)\n",
    "\n",
    "paths"
   ]
  },
  {
   "cell_type": "code",
   "execution_count": 5,
   "metadata": {},
   "outputs": [],
   "source": [
    "import numpy as np\n",
    "import pandas as pd\n",
    "\n",
    "cfa_df = pd.read_csv(r'.\\output\\cfa_fit_data.csv')\n",
    "rf_df = pd.read_csv(r'.\\output\\rf_fit_data.csv')"
   ]
  },
  {
   "cell_type": "code",
   "execution_count": null,
   "metadata": {},
   "outputs": [
    {
     "name": "stderr",
     "output_type": "stream",
     "text": [
      "d:\\BRAND_HUB_PROJECT\\brandhub-capability\\src\\brand_health_centre\\score.py:30: SettingWithCopyWarning: \n",
      "A value is trying to be set on a copy of a slice from a DataFrame\n",
      "\n",
      "See the caveats in the documentation: https://pandas.pydata.org/pandas-docs/stable/user_guide/indexing.html#returning-a-view-versus-a-copy\n",
      "  cfa_filtered.rename(\n",
      "d:\\BRAND_HUB_PROJECT\\brandhub-capability\\src\\brand_health_centre\\score.py:34: SettingWithCopyWarning: \n",
      "A value is trying to be set on a copy of a slice from a DataFrame.\n",
      "Try using .loc[row_indexer,col_indexer] = value instead\n",
      "\n",
      "See the caveats in the documentation: https://pandas.pydata.org/pandas-docs/stable/user_guide/indexing.html#returning-a-view-versus-a-copy\n",
      "  cfa_filtered[config[\"cfa_target_col\"]] = cfa_filtered[\n",
      "[Parallel(n_jobs=-1)]: Using backend LokyBackend with 18 concurrent workers.\n",
      "[Parallel(n_jobs=-1)]: Done   2 out of   8 | elapsed:  1.2min remaining:  3.6min\n",
      "[Parallel(n_jobs=-1)]: Done   3 out of   8 | elapsed:  1.2min remaining:  2.0min\n",
      "[Parallel(n_jobs=-1)]: Done   4 out of   8 | elapsed:  1.2min remaining:  1.2min\n",
      "[Parallel(n_jobs=-1)]: Done   5 out of   8 | elapsed:  1.2min remaining:   44.8s\n",
      "[Parallel(n_jobs=-1)]: Done   6 out of   8 | elapsed:  1.5min remaining:   29.1s\n",
      "[Parallel(n_jobs=-1)]: Done   8 out of   8 | elapsed:  1.5min finished\n"
     ]
    }
   ],
   "source": [
    "from src.brand_health_centre.score import scoring\n",
    "from src.brand_health_centre.pillar_importance import importance_run_parallel_processing, scorecard_format\n",
    "\n",
    "## Pillar Creation\n",
    "pillar_weights, pillar_data, trend_past_data, scaled_score_data = scoring(\n",
    "    cfa_df, rf_df, scaled_data, idv_list, config, paths\n",
    ")\n",
    "\n",
    "## Importance Model\n",
    "imp_rf_df, imp_rf_act_pred_df = importance_run_parallel_processing(\n",
    "    scaled_data, trend_past_data, idv_list, config, paths\n",
    ")\n",
    "\n",
    "## Scorecard Creation\n",
    "scorecard, pillar_relative_importance = scorecard_format(\n",
    "    config,\n",
    "    pillar_weights,\n",
    "    scaled_data,\n",
    "    scaled_score_data,\n",
    "    imp_rf_df,\n",
    "    paths,\n",
    ")"
   ]
  },
  {
   "cell_type": "code",
   "execution_count": null,
   "metadata": {},
   "outputs": [],
   "source": []
  },
  {
   "cell_type": "code",
   "execution_count": null,
   "metadata": {},
   "outputs": [],
   "source": []
  }
 ],
 "metadata": {
  "kernelspec": {
   "display_name": "bhc_cap_env",
   "language": "python",
   "name": "python3"
  },
  "language_info": {
   "codemirror_mode": {
    "name": "ipython",
    "version": 3
   },
   "file_extension": ".py",
   "mimetype": "text/x-python",
   "name": "python",
   "nbconvert_exporter": "python",
   "pygments_lexer": "ipython3",
   "version": "3.10.12"
  }
 },
 "nbformat": 4,
 "nbformat_minor": 2
}
